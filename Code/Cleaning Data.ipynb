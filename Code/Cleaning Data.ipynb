{
 "cells": [
  {
   "cell_type": "code",
   "execution_count": 2,
   "metadata": {},
   "outputs": [],
   "source": [
    "import pandas as pd\n",
    "import numpy as np"
   ]
  },
  {
   "cell_type": "code",
   "execution_count": 3,
   "metadata": {},
   "outputs": [],
   "source": [
    "data= pd.read_csv('..\\Data\\data.csv')\n",
    "data_whs= pd.read_csv('..\\Data\\data_whs.csv')\n",
    "data6= pd.read_csv('..\\Data\\data6.csv')\n",
    "data10= pd.read_csv('..\\Data\\data10.csv')\n",
    "data15= pd.read_csv('..\\Data\\data15.csv')"
   ]
  },
  {
   "cell_type": "code",
   "execution_count": 4,
   "metadata": {},
   "outputs": [
    {
     "name": "stderr",
     "output_type": "stream",
     "text": [
      "[nltk_data] Downloading package words to\n",
      "[nltk_data]     C:\\Users\\Shreya\\AppData\\Roaming\\nltk_data...\n",
      "[nltk_data]   Package words is already up-to-date!\n"
     ]
    }
   ],
   "source": [
    "# Cleaning Non English Tweets\n",
    "import nltk\n",
    "nltk.download('words')\n",
    "from nltk.corpus import words\n",
    "Word = list(set(words.words()))\n",
    "def data_cleaning(df):\n",
    "    df = df[df['Text'].str.contains('|'.join(Word))]\n",
    "    df = df[df['Text'].map(lambda x: x.isascii())]\n",
    "    df = df.drop_duplicates()\n",
    "    return df"
   ]
  },
  {
   "cell_type": "code",
   "execution_count": 5,
   "metadata": {},
   "outputs": [],
   "source": [
    "data=data_cleaning(data)\n",
    "data_whs=data_cleaning(data_whs)\n",
    "data6=data_cleaning(data6)\n",
    "data10=data_cleaning(data10)\n",
    "data15=data_cleaning(data15)"
   ]
  },
  {
   "cell_type": "code",
   "execution_count": 6,
   "metadata": {},
   "outputs": [
    {
     "data": {
      "text/html": [
       "<div>\n",
       "<style scoped>\n",
       "    .dataframe tbody tr th:only-of-type {\n",
       "        vertical-align: middle;\n",
       "    }\n",
       "\n",
       "    .dataframe tbody tr th {\n",
       "        vertical-align: top;\n",
       "    }\n",
       "\n",
       "    .dataframe thead th {\n",
       "        text-align: right;\n",
       "    }\n",
       "</style>\n",
       "<table border=\"1\" class=\"dataframe\">\n",
       "  <thead>\n",
       "    <tr style=\"text-align: right;\">\n",
       "      <th></th>\n",
       "      <th>Datetime</th>\n",
       "      <th>Tweet Id</th>\n",
       "      <th>Text</th>\n",
       "      <th>Username</th>\n",
       "    </tr>\n",
       "  </thead>\n",
       "  <tbody>\n",
       "    <tr>\n",
       "      <th>45</th>\n",
       "      <td>2021-10-04 23:58:58+00:00</td>\n",
       "      <td>1445176652321918979</td>\n",
       "      <td>#WhatsApp, #Instagram and #Facebook being down...</td>\n",
       "      <td>ishesithole</td>\n",
       "    </tr>\n",
       "    <tr>\n",
       "      <th>50</th>\n",
       "      <td>2021-10-04 23:58:53+00:00</td>\n",
       "      <td>1445176631430103043</td>\n",
       "      <td>Jajajajajajaja!! #facebook #instagram #whatsap...</td>\n",
       "      <td>elvlogdejacko</td>\n",
       "    </tr>\n",
       "    <tr>\n",
       "      <th>52</th>\n",
       "      <td>2021-10-04 23:58:49+00:00</td>\n",
       "      <td>1445176613239500801</td>\n",
       "      <td>#Facebook #WhatsApp #instadown https://t.co/oR...</td>\n",
       "      <td>Jcarlosr88</td>\n",
       "    </tr>\n",
       "    <tr>\n",
       "      <th>56</th>\n",
       "      <td>2021-10-04 23:58:43+00:00</td>\n",
       "      <td>1445176590770466816</td>\n",
       "      <td>Facebook, Instagram and WhatsApp went down, an...</td>\n",
       "      <td>DavidWhiteDDS</td>\n",
       "    </tr>\n",
       "    <tr>\n",
       "      <th>58</th>\n",
       "      <td>2021-10-04 23:58:41+00:00</td>\n",
       "      <td>1445176578791677955</td>\n",
       "      <td>13/14 Mientras #Facebook va recuperando su red...</td>\n",
       "      <td>Karisma</td>\n",
       "    </tr>\n",
       "    <tr>\n",
       "      <th>...</th>\n",
       "      <td>...</td>\n",
       "      <td>...</td>\n",
       "      <td>...</td>\n",
       "      <td>...</td>\n",
       "    </tr>\n",
       "    <tr>\n",
       "      <th>590793</th>\n",
       "      <td>2021-10-04 15:41:44+00:00</td>\n",
       "      <td>1445051518181335041</td>\n",
       "      <td>Encore une #panne @instagram ?\\n\\n#instagram</td>\n",
       "      <td>axel_duret</td>\n",
       "    </tr>\n",
       "    <tr>\n",
       "      <th>590796</th>\n",
       "      <td>2021-10-04 15:41:41+00:00</td>\n",
       "      <td>1445051507162980361</td>\n",
       "      <td>BOOOMMM!!! #instagram https://t.co/HmGwtEDXp3</td>\n",
       "      <td>informaticacosl</td>\n",
       "    </tr>\n",
       "    <tr>\n",
       "      <th>590802</th>\n",
       "      <td>2021-10-04 15:41:19+00:00</td>\n",
       "      <td>1445051413340557312</td>\n",
       "      <td>O insta Caiu?\\n#instagram</td>\n",
       "      <td>celos_lg</td>\n",
       "    </tr>\n",
       "    <tr>\n",
       "      <th>590803</th>\n",
       "      <td>2021-10-04 15:40:23+00:00</td>\n",
       "      <td>1445051177050247169</td>\n",
       "      <td>#CallofDutyWarzone #Warzoneclips #FYP #xyzbca ...</td>\n",
       "      <td>C0NTRIXX</td>\n",
       "    </tr>\n",
       "    <tr>\n",
       "      <th>590805</th>\n",
       "      <td>2021-10-04 15:40:07+00:00</td>\n",
       "      <td>1445051112868827136</td>\n",
       "      <td>@justvoot #Instagram me bhi jao yrr #UmarIsThe...</td>\n",
       "      <td>khushbu_barkat</td>\n",
       "    </tr>\n",
       "  </tbody>\n",
       "</table>\n",
       "<p>146260 rows × 4 columns</p>\n",
       "</div>"
      ],
      "text/plain": [
       "                         Datetime             Tweet Id  \\\n",
       "45      2021-10-04 23:58:58+00:00  1445176652321918979   \n",
       "50      2021-10-04 23:58:53+00:00  1445176631430103043   \n",
       "52      2021-10-04 23:58:49+00:00  1445176613239500801   \n",
       "56      2021-10-04 23:58:43+00:00  1445176590770466816   \n",
       "58      2021-10-04 23:58:41+00:00  1445176578791677955   \n",
       "...                           ...                  ...   \n",
       "590793  2021-10-04 15:41:44+00:00  1445051518181335041   \n",
       "590796  2021-10-04 15:41:41+00:00  1445051507162980361   \n",
       "590802  2021-10-04 15:41:19+00:00  1445051413340557312   \n",
       "590803  2021-10-04 15:40:23+00:00  1445051177050247169   \n",
       "590805  2021-10-04 15:40:07+00:00  1445051112868827136   \n",
       "\n",
       "                                                     Text         Username  \n",
       "45      #WhatsApp, #Instagram and #Facebook being down...      ishesithole  \n",
       "50      Jajajajajajaja!! #facebook #instagram #whatsap...    elvlogdejacko  \n",
       "52      #Facebook #WhatsApp #instadown https://t.co/oR...       Jcarlosr88  \n",
       "56      Facebook, Instagram and WhatsApp went down, an...    DavidWhiteDDS  \n",
       "58      13/14 Mientras #Facebook va recuperando su red...          Karisma  \n",
       "...                                                   ...              ...  \n",
       "590793       Encore une #panne @instagram ?\\n\\n#instagram       axel_duret  \n",
       "590796      BOOOMMM!!! #instagram https://t.co/HmGwtEDXp3  informaticacosl  \n",
       "590802                          O insta Caiu?\\n#instagram         celos_lg  \n",
       "590803  #CallofDutyWarzone #Warzoneclips #FYP #xyzbca ...         C0NTRIXX  \n",
       "590805  @justvoot #Instagram me bhi jao yrr #UmarIsThe...   khushbu_barkat  \n",
       "\n",
       "[146260 rows x 4 columns]"
      ]
     },
     "execution_count": 6,
     "metadata": {},
     "output_type": "execute_result"
    }
   ],
   "source": [
    "# Filtering data from outage time till eod\n",
    "# 15:40 - 239\n",
    "data[(data['Datetime'] > '2021-10-04 15:40:00') & (data['Datetime'] < '2021-10-04 23:59:00')]"
   ]
  },
  {
   "cell_type": "code",
   "execution_count": 7,
   "metadata": {},
   "outputs": [],
   "source": [
    "data.to_csv('..\\Data\\data.csv', index=False)\n",
    "data_whs.to_csv('..\\Data\\data_whs.csv', index=False)\n",
    "data6.to_csv('..\\Data\\data6.csv', index=False)\n",
    "data10.to_csv('..\\Data\\data10.csv', index=False)\n",
    "data15.to_csv('..\\Data\\data15.csv', index=False)"
   ]
  },
  {
   "cell_type": "code",
   "execution_count": null,
   "metadata": {},
   "outputs": [],
   "source": []
  }
 ],
 "metadata": {
  "kernelspec": {
   "display_name": "Python 3",
   "language": "python",
   "name": "python3"
  },
  "language_info": {
   "codemirror_mode": {
    "name": "ipython",
    "version": 3
   },
   "file_extension": ".py",
   "mimetype": "text/x-python",
   "name": "python",
   "nbconvert_exporter": "python",
   "pygments_lexer": "ipython3",
   "version": "3.8.5"
  }
 },
 "nbformat": 4,
 "nbformat_minor": 4
}
